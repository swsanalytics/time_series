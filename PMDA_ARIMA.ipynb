{
 "cells": [
  {
   "cell_type": "markdown",
   "metadata": {},
   "source": [
    "### pmdarima"
   ]
  },
  {
   "cell_type": "markdown",
   "metadata": {},
   "source": [
    "### Library Imports"
   ]
  },
  {
   "cell_type": "code",
   "execution_count": 13,
   "metadata": {},
   "outputs": [],
   "source": [
    "from statsmodels.tsa.arima_process import arma_generate_sample\n",
    "\n",
    "# Length 2000\n",
    "\n",
    "np.random.seed(42)\n",
    "max_lag = 30\n",
    "\n",
    "n = int(98)\n",
    "burn = 2000\n",
    "\n",
    "alphas = np.array([-1, .4, 1, .2])\n",
    "betas = np.array([0])\n",
    "\n",
    "ar = np.r_[1, -alphas]\n",
    "ma = np.r_[1, betas]\n",
    "\n",
    "arma11 = arma_generate_sample(ar=ar, ma=ma, nsample=n, burnin=burn)\n",
    "series1 = arma11.cumsum()\n",
    "\n",
    "\n",
    "#Length 1500\n",
    "\n",
    "np.random.seed(1111)\n",
    "max_lag = 30\n",
    "\n",
    "n = int(1500)\n",
    "burn = 2000\n",
    "\n",
    "alphas = np.array([-1, .4, 1, .2])\n",
    "betas = np.array([0])\n",
    "\n",
    "ar = np.r_[1, -alphas]\n",
    "ma = np.r_[1, betas]\n",
    "\n",
    "arma11 = arma_generate_sample(ar=ar, ma=ma, nsample=n, burnin=burn)\n",
    "series2 = arma11.cumsum()"
   ]
  },
  {
   "cell_type": "code",
   "execution_count": 43,
   "metadata": {},
   "outputs": [
    {
     "name": "stdout",
     "output_type": "stream",
     "text": [
      "Fit ARIMA: order=(0, 1, 0) seasonal_order=(0, 0, 0, 12); AIC=578.264, BIC=583.413, Fit time=0.015 seconds\n",
      "Fit ARIMA: order=(1, 1, 0) seasonal_order=(1, 0, 0, 12); AIC=407.965, BIC=418.264, Fit time=0.204 seconds\n",
      "Fit ARIMA: order=(0, 1, 1) seasonal_order=(0, 0, 1, 12); AIC=nan, BIC=nan, Fit time=nan seconds\n",
      "Fit ARIMA: order=(1, 1, 0) seasonal_order=(0, 0, 0, 12); AIC=467.020, BIC=474.744, Fit time=0.051 seconds\n",
      "Fit ARIMA: order=(1, 1, 0) seasonal_order=(2, 0, 0, 12); AIC=407.560, BIC=420.434, Fit time=0.528 seconds\n",
      "Fit ARIMA: order=(1, 1, 0) seasonal_order=(2, 0, 1, 12); AIC=393.858, BIC=409.306, Fit time=2.010 seconds\n",
      "Fit ARIMA: order=(0, 1, 0) seasonal_order=(2, 0, 1, 12); AIC=470.063, BIC=482.937, Fit time=1.376 seconds\n",
      "Fit ARIMA: order=(2, 1, 0) seasonal_order=(2, 0, 1, 12); AIC=366.631, BIC=384.654, Fit time=2.474 seconds\n",
      "Fit ARIMA: order=(2, 1, 1) seasonal_order=(2, 0, 1, 12); AIC=nan, BIC=nan, Fit time=nan seconds\n",
      "Fit ARIMA: order=(2, 1, 0) seasonal_order=(1, 0, 1, 12); AIC=372.058, BIC=387.507, Fit time=0.551 seconds\n",
      "Fit ARIMA: order=(2, 1, 0) seasonal_order=(2, 0, 0, 12); AIC=367.563, BIC=383.011, Fit time=1.521 seconds\n",
      "Fit ARIMA: order=(2, 1, 0) seasonal_order=(2, 0, 2, 12); AIC=nan, BIC=nan, Fit time=nan seconds\n",
      "Fit ARIMA: order=(2, 1, 0) seasonal_order=(1, 0, 0, 12); AIC=370.379, BIC=383.252, Fit time=0.444 seconds\n",
      "Total fit time: 9.223 seconds\n",
      "366.6308054576139\n"
     ]
    }
   ],
   "source": [
    "from pmdarima.arima import auto_arima\n",
    "\n",
    "# m = number of observations per seasonal cycle. setting m =12 for monthly data.\n",
    "#\n",
    "\n",
    "#auto-ARIMA , assuming first difference \n",
    "stepwise_model_seasonal = auto_arima(s1, start_p=0, start_q=0,\n",
    "                           max_p=2, max_q=2, m=12,\n",
    "                           start_P=0, seasonal=True,\n",
    "                           start_d=0, max_d = 2, start_D=None, start_Q = 0, max_D = 2, max_P=2, max_Q=2, trace=True,\n",
    "                           error_action='ignore',  \n",
    "                           suppress_warnings=True, \n",
    "                           stepwise=True)\n",
    "print(stepwise_model_seasonal.aic())"
   ]
  },
  {
   "cell_type": "code",
   "execution_count": 33,
   "metadata": {},
   "outputs": [
    {
     "name": "stdout",
     "output_type": "stream",
     "text": [
      "Fit ARIMA: order=(0, 1, 0); AIC=578.264, BIC=583.413, Fit time=0.003 seconds\n",
      "Fit ARIMA: order=(1, 1, 0); AIC=467.020, BIC=474.744, Fit time=0.018 seconds\n",
      "Fit ARIMA: order=(0, 1, 1); AIC=499.128, BIC=506.852, Fit time=0.022 seconds\n",
      "Fit ARIMA: order=(2, 1, 0); AIC=368.379, BIC=378.678, Fit time=0.056 seconds\n",
      "Fit ARIMA: order=(2, 1, 1); AIC=316.456, BIC=329.330, Fit time=0.124 seconds\n",
      "Fit ARIMA: order=(1, 1, 1); AIC=437.238, BIC=447.537, Fit time=0.050 seconds\n",
      "Fit ARIMA: order=(2, 1, 2); AIC=286.176, BIC=301.624, Fit time=0.174 seconds\n",
      "Fit ARIMA: order=(1, 1, 2); AIC=374.468, BIC=387.342, Fit time=0.095 seconds\n",
      "Total fit time: 0.549 seconds\n",
      "286.1757158450875\n"
     ]
    }
   ],
   "source": [
    "from pmdarima.arima import auto_arima\n",
    "\n",
    "# m = number of observations per seasonal cycle. setting m =12 for monthly data.\n",
    "#\n",
    "\n",
    "#auto-ARIMA , assuming first difference \n",
    "stepwise_model_nonseasonal = auto_arima(s1, start_p=0, start_q=0,\n",
    "                           max_p=2, max_q=2, m=12,\n",
    "                           start_P=0, seasonal=False,\n",
    "                           start_d=0, max_d = 2, start_D=0, start_Q = 0, max_D = 2, max_P=2, max_Q=2, trace=True,\n",
    "                           error_action='ignore',  \n",
    "                           suppress_warnings=True, \n",
    "                           stepwise=True)\n",
    "print(stepwise_model.aic())"
   ]
  },
  {
   "cell_type": "code",
   "execution_count": 42,
   "metadata": {},
   "outputs": [
    {
     "name": "stdout",
     "output_type": "stream",
     "text": [
      "Fit ARIMA: order=(0, 1, 0) seasonal_order=(0, 0, 0, 12); AIC=578.264, BIC=583.413, Fit time=0.026 seconds\n",
      "Fit ARIMA: order=(0, 1, 0) seasonal_order=(0, 0, 1, 12); AIC=519.785, BIC=527.509, Fit time=0.196 seconds\n",
      "Fit ARIMA: order=(0, 1, 0) seasonal_order=(0, 0, 2, 12); AIC=501.466, BIC=511.764, Fit time=1.202 seconds\n",
      "Fit ARIMA: order=(0, 1, 0) seasonal_order=(1, 0, 0, 12); AIC=498.633, BIC=506.357, Fit time=0.275 seconds\n",
      "Fit ARIMA: order=(0, 1, 0) seasonal_order=(1, 0, 1, 12); AIC=491.969, BIC=502.267, Fit time=0.449 seconds\n",
      "Fit ARIMA: order=(0, 1, 0) seasonal_order=(1, 0, 2, 12); AIC=nan, BIC=nan, Fit time=nan seconds\n",
      "Fit ARIMA: order=(0, 1, 0) seasonal_order=(2, 0, 0, 12); AIC=486.043, BIC=496.342, Fit time=0.527 seconds\n",
      "Fit ARIMA: order=(0, 1, 0) seasonal_order=(2, 0, 1, 12); AIC=470.063, BIC=482.937, Fit time=1.613 seconds\n",
      "Fit ARIMA: order=(0, 1, 0) seasonal_order=(2, 0, 2, 12); AIC=nan, BIC=nan, Fit time=nan seconds\n",
      "Fit ARIMA: order=(0, 1, 1) seasonal_order=(0, 0, 0, 12); AIC=nan, BIC=nan, Fit time=nan seconds\n",
      "Fit ARIMA: order=(0, 1, 1) seasonal_order=(0, 0, 1, 12); AIC=nan, BIC=nan, Fit time=nan seconds\n",
      "Fit ARIMA: order=(0, 1, 1) seasonal_order=(0, 0, 2, 12); AIC=nan, BIC=nan, Fit time=nan seconds\n",
      "Fit ARIMA: order=(0, 1, 1) seasonal_order=(1, 0, 0, 12); AIC=nan, BIC=nan, Fit time=nan seconds\n",
      "Fit ARIMA: order=(0, 1, 1) seasonal_order=(1, 0, 1, 12); AIC=nan, BIC=nan, Fit time=nan seconds\n",
      "Fit ARIMA: order=(0, 1, 1) seasonal_order=(1, 0, 2, 12); AIC=nan, BIC=nan, Fit time=nan seconds\n",
      "Fit ARIMA: order=(0, 1, 1) seasonal_order=(2, 0, 0, 12); AIC=nan, BIC=nan, Fit time=nan seconds\n",
      "Fit ARIMA: order=(0, 1, 1) seasonal_order=(2, 0, 1, 12); AIC=nan, BIC=nan, Fit time=nan seconds\n",
      "Fit ARIMA: order=(0, 1, 1) seasonal_order=(2, 0, 2, 12); AIC=nan, BIC=nan, Fit time=nan seconds\n",
      "Fit ARIMA: order=(0, 1, 2) seasonal_order=(0, 0, 0, 12); AIC=427.086, BIC=437.385, Fit time=0.205 seconds\n",
      "Fit ARIMA: order=(0, 1, 2) seasonal_order=(0, 0, 1, 12); AIC=382.222, BIC=395.096, Fit time=1.722 seconds\n",
      "Fit ARIMA: order=(0, 1, 2) seasonal_order=(0, 0, 2, 12); AIC=376.867, BIC=392.315, Fit time=3.987 seconds\n",
      "Fit ARIMA: order=(0, 1, 2) seasonal_order=(1, 0, 0, 12); AIC=366.498, BIC=379.371, Fit time=0.816 seconds\n",
      "Fit ARIMA: order=(0, 1, 2) seasonal_order=(1, 0, 1, 12); AIC=367.807, BIC=383.256, Fit time=1.574 seconds\n",
      "Fit ARIMA: order=(0, 1, 2) seasonal_order=(1, 0, 2, 12); AIC=nan, BIC=nan, Fit time=nan seconds\n",
      "Fit ARIMA: order=(0, 1, 2) seasonal_order=(2, 0, 0, 12); AIC=366.893, BIC=382.342, Fit time=2.524 seconds\n",
      "Fit ARIMA: order=(0, 1, 2) seasonal_order=(2, 0, 1, 12); AIC=357.279, BIC=375.302, Fit time=3.520 seconds\n",
      "Fit ARIMA: order=(0, 1, 2) seasonal_order=(2, 0, 2, 12); AIC=nan, BIC=nan, Fit time=nan seconds\n",
      "Fit ARIMA: order=(1, 1, 0) seasonal_order=(0, 0, 0, 12); AIC=467.020, BIC=474.744, Fit time=0.045 seconds\n",
      "Fit ARIMA: order=(1, 1, 0) seasonal_order=(0, 0, 1, 12); AIC=422.540, BIC=432.839, Fit time=0.245 seconds\n",
      "Fit ARIMA: order=(1, 1, 0) seasonal_order=(0, 0, 2, 12); AIC=414.544, BIC=427.417, Fit time=1.648 seconds\n",
      "Fit ARIMA: order=(1, 1, 0) seasonal_order=(1, 0, 0, 12); AIC=407.965, BIC=418.264, Fit time=0.290 seconds\n",
      "Fit ARIMA: order=(1, 1, 0) seasonal_order=(1, 0, 1, 12); AIC=408.540, BIC=421.413, Fit time=0.275 seconds\n",
      "Fit ARIMA: order=(1, 1, 0) seasonal_order=(1, 0, 2, 12); AIC=nan, BIC=nan, Fit time=nan seconds\n",
      "Fit ARIMA: order=(1, 1, 0) seasonal_order=(2, 0, 0, 12); AIC=407.560, BIC=420.434, Fit time=0.923 seconds\n",
      "Fit ARIMA: order=(1, 1, 0) seasonal_order=(2, 0, 1, 12); AIC=393.858, BIC=409.306, Fit time=2.622 seconds\n",
      "Fit ARIMA: order=(1, 1, 0) seasonal_order=(2, 0, 2, 12); AIC=nan, BIC=nan, Fit time=nan seconds\n",
      "Fit ARIMA: order=(1, 1, 1) seasonal_order=(0, 0, 0, 12); AIC=437.238, BIC=447.537, Fit time=0.114 seconds\n",
      "Fit ARIMA: order=(1, 1, 1) seasonal_order=(0, 0, 1, 12); AIC=411.148, BIC=424.022, Fit time=0.213 seconds\n",
      "Fit ARIMA: order=(1, 1, 1) seasonal_order=(0, 0, 2, 12); AIC=409.482, BIC=424.930, Fit time=3.048 seconds\n",
      "Fit ARIMA: order=(1, 1, 1) seasonal_order=(1, 0, 0, 12); AIC=403.471, BIC=416.344, Fit time=0.284 seconds\n",
      "Fit ARIMA: order=(1, 1, 1) seasonal_order=(1, 0, 1, 12); AIC=405.104, BIC=420.553, Fit time=0.578 seconds\n",
      "Fit ARIMA: order=(1, 1, 1) seasonal_order=(1, 0, 2, 12); AIC=nan, BIC=nan, Fit time=nan seconds\n",
      "Fit ARIMA: order=(1, 1, 1) seasonal_order=(2, 0, 0, 12); AIC=404.905, BIC=420.353, Fit time=1.299 seconds\n",
      "Fit ARIMA: order=(1, 1, 1) seasonal_order=(2, 0, 1, 12); AIC=394.583, BIC=412.606, Fit time=3.042 seconds\n",
      "Fit ARIMA: order=(1, 1, 1) seasonal_order=(2, 0, 2, 12); AIC=nan, BIC=nan, Fit time=nan seconds\n",
      "Fit ARIMA: order=(1, 1, 2) seasonal_order=(0, 0, 0, 12); AIC=374.468, BIC=387.342, Fit time=0.170 seconds\n",
      "Fit ARIMA: order=(1, 1, 2) seasonal_order=(0, 0, 1, 12); AIC=358.107, BIC=373.555, Fit time=0.468 seconds\n",
      "Fit ARIMA: order=(1, 1, 2) seasonal_order=(0, 0, 2, 12); AIC=357.051, BIC=375.074, Fit time=4.998 seconds\n",
      "Fit ARIMA: order=(1, 1, 2) seasonal_order=(1, 0, 0, 12); AIC=353.427, BIC=368.875, Fit time=0.776 seconds\n",
      "Fit ARIMA: order=(1, 1, 2) seasonal_order=(1, 0, 1, 12); AIC=355.280, BIC=373.303, Fit time=0.777 seconds\n",
      "Fit ARIMA: order=(1, 1, 2) seasonal_order=(1, 0, 2, 12); AIC=nan, BIC=nan, Fit time=nan seconds\n",
      "Fit ARIMA: order=(1, 1, 2) seasonal_order=(2, 0, 0, 12); AIC=355.263, BIC=373.286, Fit time=1.667 seconds\n",
      "Fit ARIMA: order=(1, 1, 2) seasonal_order=(2, 0, 1, 12); AIC=351.521, BIC=372.119, Fit time=4.651 seconds\n",
      "Fit ARIMA: order=(1, 1, 2) seasonal_order=(2, 0, 2, 12); AIC=nan, BIC=nan, Fit time=nan seconds\n",
      "Fit ARIMA: order=(2, 1, 0) seasonal_order=(0, 0, 0, 12); AIC=368.379, BIC=378.678, Fit time=0.071 seconds\n",
      "Fit ARIMA: order=(2, 1, 0) seasonal_order=(0, 0, 1, 12); AIC=370.323, BIC=383.196, Fit time=0.253 seconds\n",
      "Fit ARIMA: order=(2, 1, 0) seasonal_order=(0, 0, 2, 12); AIC=370.219, BIC=385.668, Fit time=1.072 seconds\n",
      "Fit ARIMA: order=(2, 1, 0) seasonal_order=(1, 0, 0, 12); AIC=370.379, BIC=383.252, Fit time=0.356 seconds\n",
      "Fit ARIMA: order=(2, 1, 0) seasonal_order=(1, 0, 1, 12); AIC=372.058, BIC=387.507, Fit time=0.532 seconds\n",
      "Fit ARIMA: order=(2, 1, 0) seasonal_order=(1, 0, 2, 12); AIC=nan, BIC=nan, Fit time=nan seconds\n",
      "Fit ARIMA: order=(2, 1, 0) seasonal_order=(2, 0, 0, 12); AIC=367.563, BIC=383.011, Fit time=1.848 seconds\n",
      "Fit ARIMA: order=(2, 1, 0) seasonal_order=(2, 0, 1, 12); AIC=366.631, BIC=384.654, Fit time=2.747 seconds\n",
      "Fit ARIMA: order=(2, 1, 0) seasonal_order=(2, 0, 2, 12); AIC=nan, BIC=nan, Fit time=nan seconds\n",
      "Fit ARIMA: order=(2, 1, 1) seasonal_order=(0, 0, 0, 12); AIC=nan, BIC=nan, Fit time=nan seconds\n",
      "Fit ARIMA: order=(2, 1, 1) seasonal_order=(0, 0, 1, 12); AIC=nan, BIC=nan, Fit time=nan seconds\n",
      "Fit ARIMA: order=(2, 1, 1) seasonal_order=(0, 0, 2, 12); AIC=nan, BIC=nan, Fit time=nan seconds\n",
      "Fit ARIMA: order=(2, 1, 1) seasonal_order=(1, 0, 0, 12); AIC=nan, BIC=nan, Fit time=nan seconds\n",
      "Fit ARIMA: order=(2, 1, 1) seasonal_order=(1, 0, 1, 12); AIC=nan, BIC=nan, Fit time=nan seconds\n",
      "Fit ARIMA: order=(2, 1, 1) seasonal_order=(1, 0, 2, 12); AIC=nan, BIC=nan, Fit time=nan seconds\n",
      "Fit ARIMA: order=(2, 1, 1) seasonal_order=(2, 0, 0, 12); AIC=nan, BIC=nan, Fit time=nan seconds\n",
      "Fit ARIMA: order=(2, 1, 1) seasonal_order=(2, 0, 1, 12); AIC=nan, BIC=nan, Fit time=nan seconds\n",
      "Fit ARIMA: order=(2, 1, 1) seasonal_order=(2, 0, 2, 12); AIC=nan, BIC=nan, Fit time=nan seconds\n",
      "Fit ARIMA: order=(2, 1, 2) seasonal_order=(0, 0, 0, 12); AIC=286.176, BIC=301.624, Fit time=0.208 seconds\n",
      "Fit ARIMA: order=(2, 1, 2) seasonal_order=(0, 0, 1, 12); AIC=287.175, BIC=305.198, Fit time=1.231 seconds\n",
      "Fit ARIMA: order=(2, 1, 2) seasonal_order=(0, 0, 2, 12); AIC=289.143, BIC=309.741, Fit time=6.547 seconds\n",
      "Fit ARIMA: order=(2, 1, 2) seasonal_order=(1, 0, 0, 12); AIC=287.128, BIC=305.151, Fit time=1.000 seconds\n",
      "Fit ARIMA: order=(2, 1, 2) seasonal_order=(1, 0, 1, 12); AIC=289.109, BIC=309.706, Fit time=1.384 seconds\n",
      "Fit ARIMA: order=(2, 1, 2) seasonal_order=(1, 0, 2, 12); AIC=nan, BIC=nan, Fit time=nan seconds\n",
      "Fit ARIMA: order=(2, 1, 2) seasonal_order=(2, 0, 0, 12); AIC=288.614, BIC=309.212, Fit time=3.186 seconds\n",
      "Fit ARIMA: order=(2, 1, 2) seasonal_order=(2, 0, 1, 12); AIC=290.554, BIC=313.727, Fit time=3.641 seconds\n",
      "Fit ARIMA: order=(2, 1, 2) seasonal_order=(2, 0, 2, 12); AIC=nan, BIC=nan, Fit time=nan seconds\n",
      "Total fit time: 71.088 seconds\n",
      "286.1757158450875\n"
     ]
    }
   ],
   "source": [
    "from pmdarima.arima import auto_arima\n",
    "\n",
    "# m = number of observations per seasonal cycle. setting m =12 for monthly data.\n",
    "#\n",
    "\n",
    "#auto-ARIMA , assuming first difference \n",
    "stepwise_model_seasonal_all = auto_arima(s1, start_p=0, start_q=0,\n",
    "                           max_p=2, max_q=2, m=12,\n",
    "                           start_P=0, seasonal=True,\n",
    "                           start_d=0, max_d = 2, start_D=0, start_Q = 0, max_D = 2, max_P=2, max_Q=2, trace=True,\n",
    "                           error_action='ignore',  \n",
    "                           suppress_warnings=True, \n",
    "                           stepwise=False)\n",
    "print(stepwise_model_seasonal_all.aic())"
   ]
  },
  {
   "cell_type": "code",
   "execution_count": null,
   "metadata": {},
   "outputs": [],
   "source": []
  }
 ],
 "metadata": {
  "kernelspec": {
   "display_name": "gpu",
   "language": "python",
   "name": "gpu"
  },
  "language_info": {
   "codemirror_mode": {
    "name": "ipython",
    "version": 3
   },
   "file_extension": ".py",
   "mimetype": "text/x-python",
   "name": "python",
   "nbconvert_exporter": "python",
   "pygments_lexer": "ipython3",
   "version": "3.7.3"
  }
 },
 "nbformat": 4,
 "nbformat_minor": 2
}
